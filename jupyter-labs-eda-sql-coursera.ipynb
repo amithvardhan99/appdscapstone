{
    "cells": [
        {
            "cell_type": "markdown",
            "metadata": {},
            "source": "<p style=\"text-align:center\">\n    <a href=\"https://skills.network/?utm_medium=Exinfluencer&utm_source=Exinfluencer&utm_content=000026UJ&utm_term=10006555&utm_id=NA-SkillsNetwork-Channel-SkillsNetworkCoursesIBMDS0321ENSkillsNetwork865-2023-01-01\">\n    <img src=\"https://cf-courses-data.s3.us.cloud-object-storage.appdomain.cloud/assets/logos/SN_web_lightmode.png\" width=\"200\" alt=\"Skills Network Logo\"  />\n    </a>\n</p>\n\n<h1 align=center><font size = 5>Assignment: SQL Notebook for Peer Assignment</font></h1>\n\nEstimated time needed: **60** minutes.\n\n## Introduction\nUsing this Python notebook you will:\n\n1.  Understand the Spacex DataSet\n2.  Load the dataset  into the corresponding table in a Db2 database\n3.  Execute SQL queries to answer assignment questions \n"
        },
        {
            "cell_type": "markdown",
            "metadata": {},
            "source": "## Overview of the DataSet\n\nSpaceX has gained worldwide attention for a series of historic milestones. \n\nIt is the only private company ever to return a spacecraft from low-earth orbit, which it first accomplished in December 2010.\nSpaceX advertises Falcon 9 rocket launches on its website with a cost of 62 million dollars wheras other providers cost upward of 165 million dollars each, much of the savings is because Space X can reuse the first stage. \n\n\nTherefore if we can determine if the first stage will land, we can determine the cost of a launch. \n\nThis information can be used if an alternate company wants to bid against SpaceX for a rocket launch.\n\nThis dataset includes a record for each payload carried during a SpaceX mission into outer space.\n"
        },
        {
            "cell_type": "markdown",
            "metadata": {},
            "source": "### Download the datasets\n\nThis assignment requires you to load the spacex dataset.\n\nIn many cases the dataset to be analyzed is available as a .CSV (comma separated values) file, perhaps on the internet. Click on the link below to download and save the dataset (.CSV file):\n\n <a href=\"https://cf-courses-data.s3.us.cloud-object-storage.appdomain.cloud/IBM-DS0321EN-SkillsNetwork/labs/module_2/data/Spacex.csv\" target=\"_blank\">Spacex DataSet</a>\n\n"
        },
        {
            "cell_type": "markdown",
            "metadata": {},
            "source": "**Navigate to the Go to UI screen** \n\n* Refer to this insruction in this <a href=\"https://cf-courses-data.s3.us.cloud-object-storage.appdomain.cloud/IBMDeveloperSkillsNetwork-DB0201EN-SkillsNetwork/labs/Labs_Coursera_V5/labs/Lab%20-%20Sign%20up%20for%20IBM%20Cloud%20-%20Create%20Db2%20service%20instance%20-%20Get%20started%20with%20the%20Db2%20console/instructional-labs.md.html\">link</a> for viewing  the   Go to UI screen. \n\n\n* Later click on **Data link(below SQL)**  in the Go to UI screen  and click on **Load Data** tab.  \n\n\n\n* Later browse for the downloaded spacex file.\n\n\n\n<img src=\"https://cf-courses-data.s3.us.cloud-object-storage.appdomain.cloud/IBM-DS0321EN-SkillsNetwork/labs/module_2/images/browsefile.png\" width=\"800\">\n\n\n* Once done select the schema andload the file.  \n\n\n <img src=\"https://cf-courses-data.s3.us.cloud-object-storage.appdomain.cloud/IBM-DS0321EN-SkillsNetwork/labs/module_2/images/spacexload3.png\" width=\"800\">\n \n"
        },
        {
            "cell_type": "markdown",
            "metadata": {},
            "source": "\nIf you are facing a problem in uploading the dataset (which is a csv file), you can follow the steps below to upload the .sql file instead of the CSV file:\n\n* Download the file <a href=\"https://cf-courses-data.s3.us.cloud-object-storage.appdomain.cloud/IBM-DS0321EN-SkillsNetwork/datasets/Spacex%20.sql\">Spacex.sql</a>\n\n* Later click on **SQL** in the  **Go to UI Screen**.\n\n* Use the **From file** option to browse for the **SQL** file and upload it.\n\n<img src=\"https://cf-courses-data.s3.us.cloud-object-storage.appdomain.cloud/IBM-DS0321EN-SkillsNetwork/labs/module_2/images/sqlfile.png\">\n\n* Once you upload the script,you can use the **Run All** option to run all the queries to insert the data.\n\n<img src=\"https://cf-courses-data.s3.us.cloud-object-storage.appdomain.cloud/IBM-DS0321EN-SkillsNetwork/labs/module_2/images/runall.png\">\n\n    \n"
        },
        {
            "cell_type": "code",
            "execution_count": 1,
            "metadata": {
                "tags": []
            },
            "outputs": [
                {
                    "name": "stdout",
                    "output_type": "stream",
                    "text": "Collecting ibm_db==3.1.0\n  Using cached ibm_db-3.1.0-cp37-cp37m-linux_x86_64.whl\nCollecting ibm_db_sa==0.3.3\n  Using cached ibm_db_sa-0.3.3-py3-none-any.whl\nCollecting sqlalchemy>=0.7.3 (from ibm_db_sa==0.3.3)\n  Downloading SQLAlchemy-2.0.13-cp37-cp37m-manylinux_2_17_x86_64.manylinux2014_x86_64.whl (2.7 MB)\n\u001b[2K     \u001b[90m\u2501\u2501\u2501\u2501\u2501\u2501\u2501\u2501\u2501\u2501\u2501\u2501\u2501\u2501\u2501\u2501\u2501\u2501\u2501\u2501\u2501\u2501\u2501\u2501\u2501\u2501\u2501\u2501\u2501\u2501\u2501\u2501\u2501\u2501\u2501\u2501\u2501\u2501\u2501\u2501\u001b[0m \u001b[32m2.7/2.7 MB\u001b[0m \u001b[31m66.4 MB/s\u001b[0m eta \u001b[36m0:00:00\u001b[0m:00:01\u001b[0m\n\u001b[?25hCollecting typing-extensions>=4.2.0 (from sqlalchemy>=0.7.3->ibm_db_sa==0.3.3)\n  Downloading typing_extensions-4.5.0-py3-none-any.whl (27 kB)\nCollecting greenlet!=0.4.17 (from sqlalchemy>=0.7.3->ibm_db_sa==0.3.3)\n  Downloading greenlet-2.0.2-cp37-cp37m-manylinux_2_17_x86_64.manylinux2014_x86_64.whl (566 kB)\n\u001b[2K     \u001b[90m\u2501\u2501\u2501\u2501\u2501\u2501\u2501\u2501\u2501\u2501\u2501\u2501\u2501\u2501\u2501\u2501\u2501\u2501\u2501\u2501\u2501\u2501\u2501\u2501\u2501\u2501\u2501\u2501\u2501\u2501\u2501\u2501\u2501\u2501\u2501\u2501\u2501\u2501\u001b[0m \u001b[32m566.1/566.1 kB\u001b[0m \u001b[31m41.2 MB/s\u001b[0m eta \u001b[36m0:00:00\u001b[0m\n\u001b[?25hCollecting importlib-metadata (from sqlalchemy>=0.7.3->ibm_db_sa==0.3.3)\n  Downloading importlib_metadata-6.6.0-py3-none-any.whl (22 kB)\nCollecting zipp>=0.5 (from importlib-metadata->sqlalchemy>=0.7.3->ibm_db_sa==0.3.3)\n  Downloading zipp-3.15.0-py3-none-any.whl (6.8 kB)\nInstalling collected packages: ibm_db, zipp, typing-extensions, greenlet, importlib-metadata, sqlalchemy, ibm_db_sa\n  Attempting uninstall: ibm_db\n    Found existing installation: ibm-db 3.1.0\n    Uninstalling ibm-db-3.1.0:\n      Successfully uninstalled ibm-db-3.1.0\n  Attempting uninstall: zipp\n    Found existing installation: zipp 3.15.0\n    Uninstalling zipp-3.15.0:\n      Successfully uninstalled zipp-3.15.0\n  Attempting uninstall: typing-extensions\n    Found existing installation: typing_extensions 4.5.0\n    Uninstalling typing_extensions-4.5.0:\n      Successfully uninstalled typing_extensions-4.5.0\n  Attempting uninstall: importlib-metadata\n    Found existing installation: importlib-metadata 4.11.4\n    Uninstalling importlib-metadata-4.11.4:\n      Successfully uninstalled importlib-metadata-4.11.4\n  Attempting uninstall: sqlalchemy\n    Found existing installation: SQLAlchemy 1.3.24\n    Uninstalling SQLAlchemy-1.3.24:\n      Successfully uninstalled SQLAlchemy-1.3.24\n  Attempting uninstall: ibm_db_sa\n    Found existing installation: ibm-db-sa 0.3.3\n    Uninstalling ibm-db-sa-0.3.3:\n      Successfully uninstalled ibm-db-sa-0.3.3\n\u001b[31mERROR: pip's dependency resolver does not currently take into account all the packages that are installed. This behaviour is the source of the following dependency conflicts.\ndash 2.9.3 requires dash-core-components==2.0.0, which is not installed.\ndash 2.9.3 requires dash-html-components==2.0.0, which is not installed.\ndash 2.9.3 requires dash-table==5.0.0, which is not installed.\u001b[0m\u001b[31m\n\u001b[0mSuccessfully installed greenlet-2.0.2 ibm_db-3.1.0 ibm_db_sa-0.3.3 importlib-metadata-6.6.0 sqlalchemy-2.0.13 typing-extensions-4.5.0 zipp-3.15.0\nCollecting sqlalchemy==1.3.24\n  Using cached SQLAlchemy-1.3.24-cp37-cp37m-manylinux2010_x86_64.whl (1.3 MB)\nInstalling collected packages: sqlalchemy\n  Attempting uninstall: sqlalchemy\n    Found existing installation: SQLAlchemy 2.0.13\n    Uninstalling SQLAlchemy-2.0.13:\n      Successfully uninstalled SQLAlchemy-2.0.13\nSuccessfully installed sqlalchemy-1.3.24\nFound existing installation: ipython-sql 0.3.9\nUninstalling ipython-sql-0.3.9:\n  Successfully uninstalled ipython-sql-0.3.9\nCollecting ipython-sql==0.4.1\n  Downloading ipython_sql-0.4.1-py3-none-any.whl (21 kB)\nCollecting prettytable<1 (from ipython-sql==0.4.1)\n  Downloading prettytable-0.7.2.zip (28 kB)\n  Preparing metadata (setup.py) ... \u001b[?25ldone\n\u001b[?25hRequirement already satisfied: ipython>=1.0 in /home/jupyterlab/conda/envs/python/lib/python3.7/site-packages (from ipython-sql==0.4.1) (7.33.0)\nRequirement already satisfied: sqlalchemy>=0.6.7 in /home/jupyterlab/conda/envs/python/lib/python3.7/site-packages (from ipython-sql==0.4.1) (1.3.24)\nRequirement already satisfied: sqlparse in /home/jupyterlab/conda/envs/python/lib/python3.7/site-packages (from ipython-sql==0.4.1) (0.4.4)\nRequirement already satisfied: six in /home/jupyterlab/conda/envs/python/lib/python3.7/site-packages (from ipython-sql==0.4.1) (1.16.0)\nRequirement already satisfied: ipython-genutils>=0.1.0 in /home/jupyterlab/conda/envs/python/lib/python3.7/site-packages (from ipython-sql==0.4.1) (0.2.0)\nRequirement already satisfied: setuptools>=18.5 in /home/jupyterlab/conda/envs/python/lib/python3.7/site-packages (from ipython>=1.0->ipython-sql==0.4.1) (67.7.2)\nRequirement already satisfied: jedi>=0.16 in /home/jupyterlab/conda/envs/python/lib/python3.7/site-packages (from ipython>=1.0->ipython-sql==0.4.1) (0.18.2)\nRequirement already satisfied: decorator in /home/jupyterlab/conda/envs/python/lib/python3.7/site-packages (from ipython>=1.0->ipython-sql==0.4.1) (5.1.1)\nRequirement already satisfied: pickleshare in /home/jupyterlab/conda/envs/python/lib/python3.7/site-packages (from ipython>=1.0->ipython-sql==0.4.1) (0.7.5)\nRequirement already satisfied: traitlets>=4.2 in /home/jupyterlab/conda/envs/python/lib/python3.7/site-packages (from ipython>=1.0->ipython-sql==0.4.1) (5.9.0)\nRequirement already satisfied: prompt-toolkit!=3.0.0,!=3.0.1,<3.1.0,>=2.0.0 in /home/jupyterlab/conda/envs/python/lib/python3.7/site-packages (from ipython>=1.0->ipython-sql==0.4.1) (3.0.38)\nRequirement already satisfied: pygments in /home/jupyterlab/conda/envs/python/lib/python3.7/site-packages (from ipython>=1.0->ipython-sql==0.4.1) (2.15.1)\nRequirement already satisfied: backcall in /home/jupyterlab/conda/envs/python/lib/python3.7/site-packages (from ipython>=1.0->ipython-sql==0.4.1) (0.2.0)\nRequirement already satisfied: matplotlib-inline in /home/jupyterlab/conda/envs/python/lib/python3.7/site-packages (from ipython>=1.0->ipython-sql==0.4.1) (0.1.6)\nRequirement already satisfied: pexpect>4.3 in /home/jupyterlab/conda/envs/python/lib/python3.7/site-packages (from ipython>=1.0->ipython-sql==0.4.1) (4.8.0)\nRequirement already satisfied: parso<0.9.0,>=0.8.0 in /home/jupyterlab/conda/envs/python/lib/python3.7/site-packages (from jedi>=0.16->ipython>=1.0->ipython-sql==0.4.1) (0.8.3)\nRequirement already satisfied: ptyprocess>=0.5 in /home/jupyterlab/conda/envs/python/lib/python3.7/site-packages (from pexpect>4.3->ipython>=1.0->ipython-sql==0.4.1) (0.7.0)\nRequirement already satisfied: wcwidth in /home/jupyterlab/conda/envs/python/lib/python3.7/site-packages (from prompt-toolkit!=3.0.0,!=3.0.1,<3.1.0,>=2.0.0->ipython>=1.0->ipython-sql==0.4.1) (0.2.6)\nBuilding wheels for collected packages: prettytable\n  Building wheel for prettytable (setup.py) ... \u001b[?25ldone\n\u001b[?25h  Created wheel for prettytable: filename=prettytable-0.7.2-py3-none-any.whl size=13695 sha256=7d2e6956623db498d2718770b5541ccfd1878a45354179f9a3d24201aa74bafa\n  Stored in directory: /home/jupyterlab/.cache/pip/wheels/b2/7f/f6/f180315b584f00445045ff1699b550fa895d09471337ce21c6\nSuccessfully built prettytable\nInstalling collected packages: prettytable, ipython-sql\n  Attempting uninstall: prettytable\n    Found existing installation: prettytable 3.7.0\n    Uninstalling prettytable-3.7.0:\n      Successfully uninstalled prettytable-3.7.0\nSuccessfully installed ipython-sql-0.4.1 prettytable-0.7.2\n"
                }
            ],
            "source": "!pip install --force-reinstall ibm_db==3.1.0 ibm_db_sa==0.3.3\n!pip install sqlalchemy==1.3.24\n!pip uninstall ipython-sql -y\n!pip install ipython-sql==0.4.1"
        },
        {
            "cell_type": "markdown",
            "metadata": {},
            "source": "### Connect to the database\n\nLet us first load the SQL extension and establish a connection with the database\n"
        },
        {
            "cell_type": "code",
            "execution_count": 2,
            "metadata": {
                "tags": []
            },
            "outputs": [],
            "source": "%load_ext sql"
        },
        {
            "cell_type": "markdown",
            "metadata": {},
            "source": "\n\n\n**DB2 magic in case of  UI service credentials.**\n\n\n\n<img src=\"https://cf-courses-data.s3.us.cloud-object-storage.appdomain.cloud/IBM-DS0321EN-SkillsNetwork/labs/module_2/images/servicecredentials.png\" width=\"600\">  \n\n* Use the following format.\n\n* Add security=SSL at the end\n\n**%sql ibm_db_sa://my-username:my-password@my-hostname:my-port/my-db-name?security=SSL**\n"
        },
        {
            "cell_type": "code",
            "execution_count": null,
            "metadata": {},
            "outputs": [],
            "source": ""
        },
        {
            "cell_type": "code",
            "execution_count": null,
            "metadata": {},
            "outputs": [],
            "source": ""
        },
        {
            "cell_type": "code",
            "execution_count": 3,
            "metadata": {
                "tags": []
            },
            "outputs": [],
            "source": "%sql ibm_db_sa://jjz06171:f7s0zL4KrsBBBLmL@2f3279a5-73d1-4859-88f0-a6c3e6b4b907.c3n41cmd0nqnrk39u98g.databases.appdomain.cloud:30756/BLUDB?security=SSL"
        },
        {
            "cell_type": "markdown",
            "metadata": {},
            "source": "## Tasks\n\nNow write and execute SQL queries to solve the assignment tasks.\n\n### Task 1\n\n\n\n\n##### Display the names of the unique launch sites  in the space mission\n"
        },
        {
            "cell_type": "code",
            "execution_count": 4,
            "metadata": {
                "tags": []
            },
            "outputs": [
                {
                    "name": "stdout",
                    "output_type": "stream",
                    "text": " * ibm_db_sa://jjz06171:***@2f3279a5-73d1-4859-88f0-a6c3e6b4b907.c3n41cmd0nqnrk39u98g.databases.appdomain.cloud:30756/BLUDB\nDone.\n"
                },
                {
                    "data": {
                        "text/html": "<table>\n    <tr>\n        <th>Launch_Sites</th>\n    </tr>\n    <tr>\n        <td>CCAFS LC-40</td>\n    </tr>\n    <tr>\n        <td>CCAFS SLC-40</td>\n    </tr>\n    <tr>\n        <td>KSC LC-39A</td>\n    </tr>\n    <tr>\n        <td>VAFB SLC-4E</td>\n    </tr>\n</table>",
                        "text/plain": "[('CCAFS LC-40',), ('CCAFS SLC-40',), ('KSC LC-39A',), ('VAFB SLC-4E',)]"
                    },
                    "execution_count": 4,
                    "metadata": {},
                    "output_type": "execute_result"
                }
            ],
            "source": "%%sql \nselect distinct LAUNCH_SITE as \"Launch_Sites\" from SPACEX"
        },
        {
            "cell_type": "markdown",
            "metadata": {},
            "source": "\n### Task 2\n\n\n#####  Display 5 records where launch sites begin with the string 'CCA' \n"
        },
        {
            "cell_type": "code",
            "execution_count": 5,
            "metadata": {
                "tags": []
            },
            "outputs": [
                {
                    "name": "stdout",
                    "output_type": "stream",
                    "text": " * ibm_db_sa://jjz06171:***@2f3279a5-73d1-4859-88f0-a6c3e6b4b907.c3n41cmd0nqnrk39u98g.databases.appdomain.cloud:30756/BLUDB\nDone.\n"
                },
                {
                    "data": {
                        "text/html": "<table>\n    <tr>\n        <th>launch_site</th>\n    </tr>\n    <tr>\n        <td>CCAFS LC-40</td>\n    </tr>\n    <tr>\n        <td>CCAFS LC-40</td>\n    </tr>\n    <tr>\n        <td>CCAFS LC-40</td>\n    </tr>\n    <tr>\n        <td>CCAFS LC-40</td>\n    </tr>\n    <tr>\n        <td>CCAFS LC-40</td>\n    </tr>\n</table>",
                        "text/plain": "[('CCAFS LC-40',),\n ('CCAFS LC-40',),\n ('CCAFS LC-40',),\n ('CCAFS LC-40',),\n ('CCAFS LC-40',)]"
                    },
                    "execution_count": 5,
                    "metadata": {},
                    "output_type": "execute_result"
                }
            ],
            "source": "%%sql \nselect LAUNCH_SITE from SPACEX where LAUNCH_SITE like 'CCA%' limit 5;"
        },
        {
            "cell_type": "markdown",
            "metadata": {},
            "source": "### Task 3\n\n\n\n\n##### Display the total payload mass carried by boosters launched by NASA (CRS)\n"
        },
        {
            "cell_type": "code",
            "execution_count": 8,
            "metadata": {
                "tags": []
            },
            "outputs": [
                {
                    "name": "stdout",
                    "output_type": "stream",
                    "text": " * ibm_db_sa://jjz06171:***@2f3279a5-73d1-4859-88f0-a6c3e6b4b907.c3n41cmd0nqnrk39u98g.databases.appdomain.cloud:30756/BLUDB\nDone.\n"
                },
                {
                    "data": {
                        "text/html": "<table>\n    <tr>\n        <th>1</th>\n    </tr>\n    <tr>\n        <td>None</td>\n    </tr>\n</table>",
                        "text/plain": "[(None,)]"
                    },
                    "execution_count": 8,
                    "metadata": {},
                    "output_type": "execute_result"
                }
            ],
            "source": "%%sql \nselect sum(PAYLOAD_MASS_KG_) from SPACEX where CUSTOMER = 'NASA(CRS)';"
        },
        {
            "cell_type": "markdown",
            "metadata": {},
            "source": "### Task 4\n\n\n\n\n##### Display average payload mass carried by booster version F9 v1.1\n"
        },
        {
            "cell_type": "code",
            "execution_count": 11,
            "metadata": {
                "tags": []
            },
            "outputs": [
                {
                    "name": "stdout",
                    "output_type": "stream",
                    "text": " * ibm_db_sa://jjz06171:***@2f3279a5-73d1-4859-88f0-a6c3e6b4b907.c3n41cmd0nqnrk39u98g.databases.appdomain.cloud:30756/BLUDB\nDone.\n"
                },
                {
                    "data": {
                        "text/html": "<table>\n    <tr>\n        <th>1</th>\n    </tr>\n    <tr>\n        <td>2928</td>\n    </tr>\n</table>",
                        "text/plain": "[(2928,)]"
                    },
                    "execution_count": 11,
                    "metadata": {},
                    "output_type": "execute_result"
                }
            ],
            "source": "%%sql \nselect avg(PAYLOAD_MASS_KG_) from SPACEX where BOOSTER_VERSION = 'F9 v1.1';"
        },
        {
            "cell_type": "markdown",
            "metadata": {},
            "source": "### Task 5\n\n##### List the date when the first successful landing outcome in ground pad was acheived.\n\n\n_Hint:Use min function_ \n"
        },
        {
            "cell_type": "code",
            "execution_count": 12,
            "metadata": {
                "tags": []
            },
            "outputs": [
                {
                    "name": "stdout",
                    "output_type": "stream",
                    "text": " * ibm_db_sa://jjz06171:***@2f3279a5-73d1-4859-88f0-a6c3e6b4b907.c3n41cmd0nqnrk39u98g.databases.appdomain.cloud:30756/BLUDB\nDone.\n"
                },
                {
                    "data": {
                        "text/html": "<table>\n    <tr>\n        <th>First Successful Landing</th>\n    </tr>\n    <tr>\n        <td>2015-12-22</td>\n    </tr>\n</table>",
                        "text/plain": "[(datetime.date(2015, 12, 22),)]"
                    },
                    "execution_count": 12,
                    "metadata": {},
                    "output_type": "execute_result"
                }
            ],
            "source": "%%sql \nselect min(DATE) AS \"First Successful Landing\" FROM SPACEX WHERE LANDING_OUTCOME = 'Success (ground pad)';"
        },
        {
            "cell_type": "markdown",
            "metadata": {},
            "source": "### Task 6\n\n##### List the names of the boosters which have success in drone ship and have payload mass greater than 4000 but less than 6000\n"
        },
        {
            "cell_type": "code",
            "execution_count": 14,
            "metadata": {
                "tags": []
            },
            "outputs": [
                {
                    "name": "stdout",
                    "output_type": "stream",
                    "text": " * ibm_db_sa://jjz06171:***@2f3279a5-73d1-4859-88f0-a6c3e6b4b907.c3n41cmd0nqnrk39u98g.databases.appdomain.cloud:30756/BLUDB\nDone.\n"
                },
                {
                    "data": {
                        "text/html": "<table>\n    <tr>\n        <th>booster_version</th>\n    </tr>\n    <tr>\n        <td>F9 FT B1021.1</td>\n    </tr>\n    <tr>\n        <td>F9 FT B1022</td>\n    </tr>\n    <tr>\n        <td>F9 FT B1023.1</td>\n    </tr>\n    <tr>\n        <td>F9 FT B1026</td>\n    </tr>\n    <tr>\n        <td>F9 FT B1029.1</td>\n    </tr>\n    <tr>\n        <td>F9 FT  B1021.2</td>\n    </tr>\n    <tr>\n        <td>F9 FT  B1029.2</td>\n    </tr>\n    <tr>\n        <td>F9 FT B1036.1</td>\n    </tr>\n    <tr>\n        <td>F9 FT B1038.1</td>\n    </tr>\n    <tr>\n        <td>F9 B4 B1041.1</td>\n    </tr>\n    <tr>\n        <td>F9 FT  B1031.2</td>\n    </tr>\n    <tr>\n        <td>F9 B4 B1042.1</td>\n    </tr>\n    <tr>\n        <td>F9 B4 B1045.1</td>\n    </tr>\n    <tr>\n        <td>F9 B5  B1046.1</td>\n    </tr>\n</table>",
                        "text/plain": "[('F9 FT B1021.1',),\n ('F9 FT B1022',),\n ('F9 FT B1023.1',),\n ('F9 FT B1026',),\n ('F9 FT B1029.1',),\n ('F9 FT  B1021.2',),\n ('F9 FT  B1029.2',),\n ('F9 FT B1036.1',),\n ('F9 FT B1038.1',),\n ('F9 B4 B1041.1',),\n ('F9 FT  B1031.2',),\n ('F9 B4 B1042.1',),\n ('F9 B4 B1045.1',),\n ('F9 B5  B1046.1',)]"
                    },
                    "execution_count": 14,
                    "metadata": {},
                    "output_type": "execute_result"
                }
            ],
            "source": "%%sql \nselect BOOSTER_VERSION from SPACEX where LANDING_OUTCOME = 'Success (drone ship)' and PAYLOAD_MASS_KG_ > 4"
        },
        {
            "cell_type": "markdown",
            "metadata": {},
            "source": "### Task 7\n\n\n\n\n##### List the total number of successful and failure mission outcomes\n"
        },
        {
            "cell_type": "code",
            "execution_count": 15,
            "metadata": {
                "tags": []
            },
            "outputs": [
                {
                    "name": "stdout",
                    "output_type": "stream",
                    "text": " * ibm_db_sa://jjz06171:***@2f3279a5-73d1-4859-88f0-a6c3e6b4b907.c3n41cmd0nqnrk39u98g.databases.appdomain.cloud:30756/BLUDB\nDone.\n"
                },
                {
                    "data": {
                        "text/html": "<table>\n    <tr>\n        <th>Succesful Mission</th>\n    </tr>\n    <tr>\n        <td>100</td>\n    </tr>\n</table>",
                        "text/plain": "[(100,)]"
                    },
                    "execution_count": 15,
                    "metadata": {},
                    "output_type": "execute_result"
                }
            ],
            "source": "%%sql \nselect count(MISSION_OUTCOME) as \"Succesful Mission\" from SPACEX where MISSION_OUTCOME like 'Success%'"
        },
        {
            "cell_type": "code",
            "execution_count": 16,
            "metadata": {
                "tags": []
            },
            "outputs": [
                {
                    "name": "stdout",
                    "output_type": "stream",
                    "text": " * ibm_db_sa://jjz06171:***@2f3279a5-73d1-4859-88f0-a6c3e6b4b907.c3n41cmd0nqnrk39u98g.databases.appdomain.cloud:30756/BLUDB\nDone.\n"
                },
                {
                    "data": {
                        "text/html": "<table>\n    <tr>\n        <th>Failure Mission</th>\n    </tr>\n    <tr>\n        <td>1</td>\n    </tr>\n</table>",
                        "text/plain": "[(1,)]"
                    },
                    "execution_count": 16,
                    "metadata": {},
                    "output_type": "execute_result"
                }
            ],
            "source": "%%sql \nselect count(MISSION_OUTCOME) as \"Failure Mission\" from SPACEX where MISSION_OUTCOME like 'Fail%'"
        },
        {
            "cell_type": "code",
            "execution_count": 20,
            "metadata": {
                "tags": []
            },
            "outputs": [
                {
                    "name": "stdout",
                    "output_type": "stream",
                    "text": " * ibm_db_sa://jjz06171:***@2f3279a5-73d1-4859-88f0-a6c3e6b4b907.c3n41cmd0nqnrk39u98g.databases.appdomain.cloud:30756/BLUDB\nDone.\n"
                },
                {
                    "data": {
                        "text/html": "<table>\n    <tr>\n        <th>Successful Mission</th>\n        <th>Failure Mission</th>\n    </tr>\n    <tr>\n        <td>100</td>\n        <td>1</td>\n    </tr>\n</table>",
                        "text/plain": "[(100, 1)]"
                    },
                    "execution_count": 20,
                    "metadata": {},
                    "output_type": "execute_result"
                }
            ],
            "source": "%%sql \nselect sum(case when MISSION_OUTCOME like '%Success%' then 1 else 0 end) as \"Successful Mission\",\nsum(case when MISSION_OUTCOME like '%Failure%' then 1 else 0 end) as \"Failure Mission\" \nfrom SPACEX;"
        },
        {
            "cell_type": "markdown",
            "metadata": {},
            "source": "### Task 8\n\n\n\n##### List the   names of the booster_versions which have carried the maximum payload mass. Use a subquery\n"
        },
        {
            "cell_type": "code",
            "execution_count": 21,
            "metadata": {
                "tags": []
            },
            "outputs": [
                {
                    "name": "stdout",
                    "output_type": "stream",
                    "text": " * ibm_db_sa://jjz06171:***@2f3279a5-73d1-4859-88f0-a6c3e6b4b907.c3n41cmd0nqnrk39u98g.databases.appdomain.cloud:30756/BLUDB\nDone.\n"
                },
                {
                    "data": {
                        "text/html": "<table>\n    <tr>\n        <th>Booster Versions which carried the Maximum Payload Mass</th>\n    </tr>\n    <tr>\n        <td>F9 B5 B1048.4</td>\n    </tr>\n    <tr>\n        <td>F9 B5 B1048.5</td>\n    </tr>\n    <tr>\n        <td>F9 B5 B1049.4</td>\n    </tr>\n    <tr>\n        <td>F9 B5 B1049.5</td>\n    </tr>\n    <tr>\n        <td>F9 B5 B1049.7</td>\n    </tr>\n    <tr>\n        <td>F9 B5 B1051.3</td>\n    </tr>\n    <tr>\n        <td>F9 B5 B1051.4</td>\n    </tr>\n    <tr>\n        <td>F9 B5 B1051.6</td>\n    </tr>\n    <tr>\n        <td>F9 B5 B1056.4</td>\n    </tr>\n    <tr>\n        <td>F9 B5 B1058.3</td>\n    </tr>\n    <tr>\n        <td>F9 B5 B1060.2</td>\n    </tr>\n    <tr>\n        <td>F9 B5 B1060.3</td>\n    </tr>\n</table>",
                        "text/plain": "[('F9 B5 B1048.4',),\n ('F9 B5 B1048.5',),\n ('F9 B5 B1049.4',),\n ('F9 B5 B1049.5',),\n ('F9 B5 B1049.7',),\n ('F9 B5 B1051.3',),\n ('F9 B5 B1051.4',),\n ('F9 B5 B1051.6',),\n ('F9 B5 B1056.4',),\n ('F9 B5 B1058.3',),\n ('F9 B5 B1060.2',),\n ('F9 B5 B1060.3',)]"
                    },
                    "execution_count": 21,
                    "metadata": {},
                    "output_type": "execute_result"
                }
            ],
            "source": "%%sql \nselect distinct BOOSTER_VERSION as \"Booster Versions which carried the Maximum Payload Mass\" from SPACEX\nwhere PAYLOAD_MASS_KG_ =(select max(PAYLOAD_MASS_KG_) from SPACEX);"
        },
        {
            "cell_type": "markdown",
            "metadata": {},
            "source": "### Task 9\n\n\n##### List the failed landing_outcomes in drone ship, their booster versions, and launch site names for in year 2015\n"
        },
        {
            "cell_type": "code",
            "execution_count": 22,
            "metadata": {
                "tags": []
            },
            "outputs": [
                {
                    "name": "stdout",
                    "output_type": "stream",
                    "text": " * ibm_db_sa://jjz06171:***@2f3279a5-73d1-4859-88f0-a6c3e6b4b907.c3n41cmd0nqnrk39u98g.databases.appdomain.cloud:30756/BLUDB\nDone.\n"
                },
                {
                    "data": {
                        "text/html": "<table>\n    <tr>\n        <th>booster_version</th>\n        <th>launch_site</th>\n    </tr>\n    <tr>\n        <td>F9 v1.1 B1012</td>\n        <td>CCAFS LC-40</td>\n    </tr>\n    <tr>\n        <td>F9 v1.1 B1015</td>\n        <td>CCAFS LC-40</td>\n    </tr>\n</table>",
                        "text/plain": "[('F9 v1.1 B1012', 'CCAFS LC-40'), ('F9 v1.1 B1015', 'CCAFS LC-40')]"
                    },
                    "execution_count": 22,
                    "metadata": {},
                    "output_type": "execute_result"
                }
            ],
            "source": "%%sql \nselect BOOSTER_VERSION, LAUNCH_SITE from SPACEX where DATE like '2015-%' and\nLANDING_OUTCOME = 'Failure (drone ship)';"
        },
        {
            "cell_type": "markdown",
            "metadata": {},
            "source": "### Task 10\n\n##### Rank the count of landing outcomes (such as Failure (drone ship) or Success (ground pad)) between the date 2010-06-04 and 2017-03-20, in descending order\n"
        },
        {
            "cell_type": "code",
            "execution_count": 27,
            "metadata": {
                "tags": []
            },
            "outputs": [
                {
                    "name": "stdout",
                    "output_type": "stream",
                    "text": " * ibm_db_sa://jjz06171:***@2f3279a5-73d1-4859-88f0-a6c3e6b4b907.c3n41cmd0nqnrk39u98g.databases.appdomain.cloud:30756/BLUDB\n(ibm_db_dbi.ProgrammingError) ibm_db_dbi::ProgrammingError: SQLNumResultCols failed: [IBM][CLI Driver][DB2/LINUXX8664] SQL0206N  \"LANDING__OUTCOME\" is not valid in the context where it is used.  SQLSTATE=42703 SQLCODE=-206\n[SQL: select LANDING__OUTCOME as \"Landing Outcome\", count(LANDING_OUTCOME) as \"Total Count\" from SPACEX\nwhere DATE between '2010-06-04' and '2017-03-20'\ngroup by LANDING_OUTCOME\norder by count(LANDING_OUTCOME) desc;]\n(Background on this error at: http://sqlalche.me/e/13/f405)\n"
                }
            ],
            "source": "%%sql \nselect LANDING__OUTCOME as \"Landing Outcome\", count(LANDING_OUTCOME) as \"Total Count\" from SPACEX\nwhere DATE between '2010-06-04' and '2017-03-20'\ngroup by LANDING_OUTCOME\norder by count(LANDING_OUTCOME) desc;"
        },
        {
            "cell_type": "markdown",
            "metadata": {},
            "source": "### Reference Links\n\n* <a href =\"https://cf-courses-data.s3.us.cloud-object-storage.appdomain.cloud/IBMDeveloperSkillsNetwork-DB0201EN-SkillsNetwork/labs/Labs_Coursera_V5/labs/Lab%20-%20String%20Patterns%20-%20Sorting%20-%20Grouping/instructional-labs.md.html?origin=www.coursera.org\">Hands-on Lab : String Patterns, Sorting and Grouping</a>  \n\n*  <a  href=\"https://cf-courses-data.s3.us.cloud-object-storage.appdomain.cloud/IBMDeveloperSkillsNetwork-DB0201EN-SkillsNetwork/labs/Labs_Coursera_V5/labs/Lab%20-%20Built-in%20functions%20/Hands-on_Lab__Built-in_Functions.md.html?origin=www.coursera.org\">Hands-on Lab: Built-in functions</a>\n\n*  <a  href=\"https://cf-courses-data.s3.us.cloud-object-storage.appdomain.cloud/IBMDeveloperSkillsNetwork-DB0201EN-SkillsNetwork/labs/Labs_Coursera_V5/labs/Lab%20-%20Sub-queries%20and%20Nested%20SELECTs%20/instructional-labs.md.html?origin=www.coursera.org\">Hands-on Lab : Sub-queries and Nested SELECT Statements</a>\n\n*   <a href=\"https://cf-courses-data.s3.us.cloud-object-storage.appdomain.cloud/IBMDeveloperSkillsNetwork-DB0201EN-SkillsNetwork/labs/Module%205/DB0201EN-Week3-1-3-SQLmagic.ipynb\">Hands-on Tutorial: Accessing Databases with SQL magic</a>\n\n*  <a href= \"https://cf-courses-data.s3.us.cloud-object-storage.appdomain.cloud/IBMDeveloperSkillsNetwork-DB0201EN-SkillsNetwork/labs/Module%205/DB0201EN-Week3-1-4-Analyzing.ipynb\">Hands-on Lab: Analyzing a real World Data Set</a>\n\n\n"
        },
        {
            "cell_type": "markdown",
            "metadata": {},
            "source": "## Author(s)\n\n<h4> Lakshmi Holla </h4>\n"
        },
        {
            "cell_type": "markdown",
            "metadata": {},
            "source": "## Other Contributors\n\n<h4> Rav Ahuja </h4>\n"
        },
        {
            "cell_type": "markdown",
            "metadata": {},
            "source": "## Change log\n| Date | Version | Changed by | Change Description |\n|------|--------|--------|---------|\n| 2021-10-12 | 0.4 |Lakshmi Holla | Changed markdown|\n| 2021-08-24 | 0.3 |Lakshmi Holla | Added library update|\n| 2021-07-09 | 0.2 |Lakshmi Holla | Changes made in magic sql|\n| 2021-05-20 | 0.1 |Lakshmi Holla | Created Initial Version |\n"
        },
        {
            "cell_type": "markdown",
            "metadata": {},
            "source": "## <h3 align=\"center\"> \u00a9 IBM Corporation 2021. All rights reserved. <h3/>\n"
        }
    ],
    "metadata": {
        "kernelspec": {
            "display_name": "Python",
            "language": "python",
            "name": "conda-env-python-py"
        },
        "language_info": {
            "codemirror_mode": {
                "name": "ipython",
                "version": 3
            },
            "file_extension": ".py",
            "mimetype": "text/x-python",
            "name": "python",
            "nbconvert_exporter": "python",
            "pygments_lexer": "ipython3",
            "version": "3.7.12"
        }
    },
    "nbformat": 4,
    "nbformat_minor": 4
}